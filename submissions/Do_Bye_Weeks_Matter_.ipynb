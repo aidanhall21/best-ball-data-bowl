{
  "cells": [
    {
      "cell_type": "markdown",
      "metadata": {
        "id": "7U1OW2ZOMZVK"
      },
      "source": [
        "#Do Bye Weeks Matter?\n",
        "\n",
        "###Participant: Lou Sherman\n",
        "####Twitter: @loudogvideo\n",
        "\n",
        "#Introduction\n",
        "This project dives into the age-old question: Do Bye Weeks Matter? In my analysis, I find the maximum number of duplicated bye weeks per BBM 2 and BBM 3 team. I then compare advance rates of teams based on the total number of duplicated bye weeks. I also split out the data by position, since a duped bye week impacts QBs more than WR, for instance."
      ]
    },
    {
      "cell_type": "markdown",
      "metadata": {
        "id": "jnCKmiJfN5gh"
      },
      "source": [
        "Frist, I load in the packages we will be using in this project"
      ]
    },
    {
      "cell_type": "code",
      "execution_count": null,
      "metadata": {
        "id": "2aOyTpiKHxwv"
      },
      "outputs": [],
      "source": [
        "#import packages\n",
        "import os\n",
        "import requests\n",
        "import numpy as np\n",
        "import pandas as pd\n",
        "import matplotlib.pyplot as plt"
      ]
    },
    {
      "cell_type": "markdown",
      "metadata": {
        "id": "8Yi3IjvNN92S"
      },
      "source": [
        "Loading best ball data from 2021 and 2022"
      ]
    },
    {
      "cell_type": "code",
      "execution_count": null,
      "metadata": {
        "colab": {
          "base_uri": "https://localhost:8080/",
          "height": 531
        },
        "id": "ELU_cW3gIl48",
        "outputId": "9406bbc9-f7b2-4d25-f12a-db03a360d244"
      },
      "outputs": [
        {
          "data": {
            "text/html": [
              "\n",
              "\n",
              "  <div id=\"df-605a17a2-a46b-4346-abab-265274505a09\">\n",
              "    <div class=\"colab-df-container\">\n",
              "      <div>\n",
              "<style scoped>\n",
              "    .dataframe tbody tr th:only-of-type {\n",
              "        vertical-align: middle;\n",
              "    }\n",
              "\n",
              "    .dataframe tbody tr th {\n",
              "        vertical-align: top;\n",
              "    }\n",
              "\n",
              "    .dataframe thead th {\n",
              "        text-align: right;\n",
              "    }\n",
              "</style>\n",
              "<table border=\"1\" class=\"dataframe\">\n",
              "  <thead>\n",
              "    <tr style=\"text-align: right;\">\n",
              "      <th></th>\n",
              "      <th>draft_id</th>\n",
              "      <th>draft_time</th>\n",
              "      <th>clock</th>\n",
              "      <th>draft_entry_id</th>\n",
              "      <th>tournament_entry_id</th>\n",
              "      <th>tournament_round_draft_entry_id</th>\n",
              "      <th>tournament_round_number</th>\n",
              "      <th>player_name</th>\n",
              "      <th>position_name</th>\n",
              "      <th>bye_week</th>\n",
              "      <th>projection_adp</th>\n",
              "      <th>pick_order</th>\n",
              "      <th>overall_pick_number</th>\n",
              "      <th>team_pick_number</th>\n",
              "      <th>pick_points</th>\n",
              "      <th>roster_points</th>\n",
              "      <th>playoff_team</th>\n",
              "      <th>year</th>\n",
              "    </tr>\n",
              "  </thead>\n",
              "  <tbody>\n",
              "    <tr>\n",
              "      <th>0</th>\n",
              "      <td>d4e1b2c6-26e0-48ec-a2e9-ca4d43f00ade</td>\n",
              "      <td>2022-08-27 05:38:33.558728</td>\n",
              "      <td>30</td>\n",
              "      <td>7336d518-d05e-4f45-9229-f61e24c0b6d3</td>\n",
              "      <td>6408bcff-e8a1-4d9b-a001-2a75106c613a</td>\n",
              "      <td>ec3b5930-e7f4-47e8-ad17-3bb430a16525</td>\n",
              "      <td>1</td>\n",
              "      <td>Courtland Sutton</td>\n",
              "      <td>WR</td>\n",
              "      <td>9</td>\n",
              "      <td>33.27</td>\n",
              "      <td>10</td>\n",
              "      <td>34</td>\n",
              "      <td>3</td>\n",
              "      <td>77.0</td>\n",
              "      <td>1491.90</td>\n",
              "      <td>0</td>\n",
              "      <td>2021</td>\n",
              "    </tr>\n",
              "    <tr>\n",
              "      <th>1</th>\n",
              "      <td>d4e1b2c6-26e0-48ec-a2e9-ca4d43f00ade</td>\n",
              "      <td>2022-08-27 05:38:33.558728</td>\n",
              "      <td>30</td>\n",
              "      <td>61ca1fda-226c-4719-9b03-955e8c9b8fe5</td>\n",
              "      <td>a26bdf98-1180-499a-8a5f-83bc51411fd6</td>\n",
              "      <td>b41eec81-6482-4dfa-9000-e68f7a579cd3</td>\n",
              "      <td>1</td>\n",
              "      <td>Brevin Jordan</td>\n",
              "      <td>TE</td>\n",
              "      <td>6</td>\n",
              "      <td>194.50</td>\n",
              "      <td>5</td>\n",
              "      <td>188</td>\n",
              "      <td>16</td>\n",
              "      <td>9.5</td>\n",
              "      <td>1493.08</td>\n",
              "      <td>0</td>\n",
              "      <td>2021</td>\n",
              "    </tr>\n",
              "    <tr>\n",
              "      <th>2</th>\n",
              "      <td>d4e1b2c6-26e0-48ec-a2e9-ca4d43f00ade</td>\n",
              "      <td>2022-08-27 05:38:33.558728</td>\n",
              "      <td>30</td>\n",
              "      <td>6c505321-ae39-466a-ace2-1445ed993a45</td>\n",
              "      <td>0e92232b-a16b-42fd-a18a-e9d956b68654</td>\n",
              "      <td>1a91ea08-f183-4338-ae82-4f94290af4a4</td>\n",
              "      <td>1</td>\n",
              "      <td>K.J. Osborn</td>\n",
              "      <td>WR</td>\n",
              "      <td>7</td>\n",
              "      <td>145.59</td>\n",
              "      <td>7</td>\n",
              "      <td>151</td>\n",
              "      <td>13</td>\n",
              "      <td>44.9</td>\n",
              "      <td>1467.62</td>\n",
              "      <td>0</td>\n",
              "      <td>2021</td>\n",
              "    </tr>\n",
              "    <tr>\n",
              "      <th>3</th>\n",
              "      <td>d4e1b2c6-26e0-48ec-a2e9-ca4d43f00ade</td>\n",
              "      <td>2022-08-27 05:38:33.558728</td>\n",
              "      <td>30</td>\n",
              "      <td>7336d518-d05e-4f45-9229-f61e24c0b6d3</td>\n",
              "      <td>6408bcff-e8a1-4d9b-a001-2a75106c613a</td>\n",
              "      <td>ec3b5930-e7f4-47e8-ad17-3bb430a16525</td>\n",
              "      <td>1</td>\n",
              "      <td>James Robinson</td>\n",
              "      <td>RB</td>\n",
              "      <td>10</td>\n",
              "      <td>137.40</td>\n",
              "      <td>10</td>\n",
              "      <td>130</td>\n",
              "      <td>11</td>\n",
              "      <td>65.6</td>\n",
              "      <td>1491.90</td>\n",
              "      <td>0</td>\n",
              "      <td>2021</td>\n",
              "    </tr>\n",
              "    <tr>\n",
              "      <th>4</th>\n",
              "      <td>d4e1b2c6-26e0-48ec-a2e9-ca4d43f00ade</td>\n",
              "      <td>2022-08-27 05:38:33.558728</td>\n",
              "      <td>30</td>\n",
              "      <td>d8518c24-eba6-49ff-925c-34efe5d90dc1</td>\n",
              "      <td>b65930ef-39d3-463b-84e1-fa5b6d05e40c</td>\n",
              "      <td>17b3175f-7f9f-4bc0-96f6-077ab4b8301f</td>\n",
              "      <td>1</td>\n",
              "      <td>Jamaal Williams</td>\n",
              "      <td>RB</td>\n",
              "      <td>6</td>\n",
              "      <td>156.86</td>\n",
              "      <td>8</td>\n",
              "      <td>161</td>\n",
              "      <td>14</td>\n",
              "      <td>147.5</td>\n",
              "      <td>1680.26</td>\n",
              "      <td>0</td>\n",
              "      <td>2021</td>\n",
              "    </tr>\n",
              "  </tbody>\n",
              "</table>\n",
              "</div>\n",
              "      <button class=\"colab-df-convert\" onclick=\"convertToInteractive('df-605a17a2-a46b-4346-abab-265274505a09')\"\n",
              "              title=\"Convert this dataframe to an interactive table.\"\n",
              "              style=\"display:none;\">\n",
              "\n",
              "  <svg xmlns=\"http://www.w3.org/2000/svg\" height=\"24px\"viewBox=\"0 0 24 24\"\n",
              "       width=\"24px\">\n",
              "    <path d=\"M0 0h24v24H0V0z\" fill=\"none\"/>\n",
              "    <path d=\"M18.56 5.44l.94 2.06.94-2.06 2.06-.94-2.06-.94-.94-2.06-.94 2.06-2.06.94zm-11 1L8.5 8.5l.94-2.06 2.06-.94-2.06-.94L8.5 2.5l-.94 2.06-2.06.94zm10 10l.94 2.06.94-2.06 2.06-.94-2.06-.94-.94-2.06-.94 2.06-2.06.94z\"/><path d=\"M17.41 7.96l-1.37-1.37c-.4-.4-.92-.59-1.43-.59-.52 0-1.04.2-1.43.59L10.3 9.45l-7.72 7.72c-.78.78-.78 2.05 0 2.83L4 21.41c.39.39.9.59 1.41.59.51 0 1.02-.2 1.41-.59l7.78-7.78 2.81-2.81c.8-.78.8-2.07 0-2.86zM5.41 20L4 18.59l7.72-7.72 1.47 1.35L5.41 20z\"/>\n",
              "  </svg>\n",
              "      </button>\n",
              "\n",
              "\n",
              "\n",
              "    <div id=\"df-5b0bcb85-691f-4475-b3d6-43a21a06b32e\">\n",
              "      <button class=\"colab-df-quickchart\" onclick=\"quickchart('df-5b0bcb85-691f-4475-b3d6-43a21a06b32e')\"\n",
              "              title=\"Suggest charts.\"\n",
              "              style=\"display:none;\">\n",
              "\n",
              "<svg xmlns=\"http://www.w3.org/2000/svg\" height=\"24px\"viewBox=\"0 0 24 24\"\n",
              "     width=\"24px\">\n",
              "    <g>\n",
              "        <path d=\"M19 3H5c-1.1 0-2 .9-2 2v14c0 1.1.9 2 2 2h14c1.1 0 2-.9 2-2V5c0-1.1-.9-2-2-2zM9 17H7v-7h2v7zm4 0h-2V7h2v10zm4 0h-2v-4h2v4z\"/>\n",
              "    </g>\n",
              "</svg>\n",
              "      </button>\n",
              "    </div>\n",
              "\n",
              "<style>\n",
              "  .colab-df-quickchart {\n",
              "    background-color: #E8F0FE;\n",
              "    border: none;\n",
              "    border-radius: 50%;\n",
              "    cursor: pointer;\n",
              "    display: none;\n",
              "    fill: #1967D2;\n",
              "    height: 32px;\n",
              "    padding: 0 0 0 0;\n",
              "    width: 32px;\n",
              "  }\n",
              "\n",
              "  .colab-df-quickchart:hover {\n",
              "    background-color: #E2EBFA;\n",
              "    box-shadow: 0px 1px 2px rgba(60, 64, 67, 0.3), 0px 1px 3px 1px rgba(60, 64, 67, 0.15);\n",
              "    fill: #174EA6;\n",
              "  }\n",
              "\n",
              "  [theme=dark] .colab-df-quickchart {\n",
              "    background-color: #3B4455;\n",
              "    fill: #D2E3FC;\n",
              "  }\n",
              "\n",
              "  [theme=dark] .colab-df-quickchart:hover {\n",
              "    background-color: #434B5C;\n",
              "    box-shadow: 0px 1px 3px 1px rgba(0, 0, 0, 0.15);\n",
              "    filter: drop-shadow(0px 1px 2px rgba(0, 0, 0, 0.3));\n",
              "    fill: #FFFFFF;\n",
              "  }\n",
              "</style>\n",
              "\n",
              "    <script>\n",
              "      async function quickchart(key) {\n",
              "        const containerElement = document.querySelector('#' + key);\n",
              "        const charts = await google.colab.kernel.invokeFunction(\n",
              "            'suggestCharts', [key], {});\n",
              "      }\n",
              "    </script>\n",
              "\n",
              "      <script>\n",
              "\n",
              "function displayQuickchartButton(domScope) {\n",
              "  let quickchartButtonEl =\n",
              "    domScope.querySelector('#df-5b0bcb85-691f-4475-b3d6-43a21a06b32e button.colab-df-quickchart');\n",
              "  quickchartButtonEl.style.display =\n",
              "    google.colab.kernel.accessAllowed ? 'block' : 'none';\n",
              "}\n",
              "\n",
              "        displayQuickchartButton(document);\n",
              "      </script>\n",
              "      <style>\n",
              "    .colab-df-container {\n",
              "      display:flex;\n",
              "      flex-wrap:wrap;\n",
              "      gap: 12px;\n",
              "    }\n",
              "\n",
              "    .colab-df-convert {\n",
              "      background-color: #E8F0FE;\n",
              "      border: none;\n",
              "      border-radius: 50%;\n",
              "      cursor: pointer;\n",
              "      display: none;\n",
              "      fill: #1967D2;\n",
              "      height: 32px;\n",
              "      padding: 0 0 0 0;\n",
              "      width: 32px;\n",
              "    }\n",
              "\n",
              "    .colab-df-convert:hover {\n",
              "      background-color: #E2EBFA;\n",
              "      box-shadow: 0px 1px 2px rgba(60, 64, 67, 0.3), 0px 1px 3px 1px rgba(60, 64, 67, 0.15);\n",
              "      fill: #174EA6;\n",
              "    }\n",
              "\n",
              "    [theme=dark] .colab-df-convert {\n",
              "      background-color: #3B4455;\n",
              "      fill: #D2E3FC;\n",
              "    }\n",
              "\n",
              "    [theme=dark] .colab-df-convert:hover {\n",
              "      background-color: #434B5C;\n",
              "      box-shadow: 0px 1px 3px 1px rgba(0, 0, 0, 0.15);\n",
              "      filter: drop-shadow(0px 1px 2px rgba(0, 0, 0, 0.3));\n",
              "      fill: #FFFFFF;\n",
              "    }\n",
              "  </style>\n",
              "\n",
              "      <script>\n",
              "        const buttonEl =\n",
              "          document.querySelector('#df-605a17a2-a46b-4346-abab-265274505a09 button.colab-df-convert');\n",
              "        buttonEl.style.display =\n",
              "          google.colab.kernel.accessAllowed ? 'block' : 'none';\n",
              "\n",
              "        async function convertToInteractive(key) {\n",
              "          const element = document.querySelector('#df-605a17a2-a46b-4346-abab-265274505a09');\n",
              "          const dataTable =\n",
              "            await google.colab.kernel.invokeFunction('convertToInteractive',\n",
              "                                                     [key], {});\n",
              "          if (!dataTable) return;\n",
              "\n",
              "          const docLinkHtml = 'Like what you see? Visit the ' +\n",
              "            '<a target=\"_blank\" href=https://colab.research.google.com/notebooks/data_table.ipynb>data table notebook</a>'\n",
              "            + ' to learn more about interactive tables.';\n",
              "          element.innerHTML = '';\n",
              "          dataTable['output_type'] = 'display_data';\n",
              "          await google.colab.output.renderOutput(dataTable, element);\n",
              "          const docLink = document.createElement('div');\n",
              "          docLink.innerHTML = docLinkHtml;\n",
              "          element.appendChild(docLink);\n",
              "        }\n",
              "      </script>\n",
              "    </div>\n",
              "  </div>\n"
            ],
            "text/plain": [
              "                               draft_id                  draft_time  clock  \\\n",
              "0  d4e1b2c6-26e0-48ec-a2e9-ca4d43f00ade  2022-08-27 05:38:33.558728     30   \n",
              "1  d4e1b2c6-26e0-48ec-a2e9-ca4d43f00ade  2022-08-27 05:38:33.558728     30   \n",
              "2  d4e1b2c6-26e0-48ec-a2e9-ca4d43f00ade  2022-08-27 05:38:33.558728     30   \n",
              "3  d4e1b2c6-26e0-48ec-a2e9-ca4d43f00ade  2022-08-27 05:38:33.558728     30   \n",
              "4  d4e1b2c6-26e0-48ec-a2e9-ca4d43f00ade  2022-08-27 05:38:33.558728     30   \n",
              "\n",
              "                         draft_entry_id                   tournament_entry_id  \\\n",
              "0  7336d518-d05e-4f45-9229-f61e24c0b6d3  6408bcff-e8a1-4d9b-a001-2a75106c613a   \n",
              "1  61ca1fda-226c-4719-9b03-955e8c9b8fe5  a26bdf98-1180-499a-8a5f-83bc51411fd6   \n",
              "2  6c505321-ae39-466a-ace2-1445ed993a45  0e92232b-a16b-42fd-a18a-e9d956b68654   \n",
              "3  7336d518-d05e-4f45-9229-f61e24c0b6d3  6408bcff-e8a1-4d9b-a001-2a75106c613a   \n",
              "4  d8518c24-eba6-49ff-925c-34efe5d90dc1  b65930ef-39d3-463b-84e1-fa5b6d05e40c   \n",
              "\n",
              "        tournament_round_draft_entry_id  tournament_round_number  \\\n",
              "0  ec3b5930-e7f4-47e8-ad17-3bb430a16525                        1   \n",
              "1  b41eec81-6482-4dfa-9000-e68f7a579cd3                        1   \n",
              "2  1a91ea08-f183-4338-ae82-4f94290af4a4                        1   \n",
              "3  ec3b5930-e7f4-47e8-ad17-3bb430a16525                        1   \n",
              "4  17b3175f-7f9f-4bc0-96f6-077ab4b8301f                        1   \n",
              "\n",
              "        player_name position_name  bye_week  projection_adp  pick_order  \\\n",
              "0  Courtland Sutton            WR         9           33.27          10   \n",
              "1     Brevin Jordan            TE         6          194.50           5   \n",
              "2       K.J. Osborn            WR         7          145.59           7   \n",
              "3    James Robinson            RB        10          137.40          10   \n",
              "4   Jamaal Williams            RB         6          156.86           8   \n",
              "\n",
              "   overall_pick_number  team_pick_number  pick_points  roster_points  \\\n",
              "0                   34                 3         77.0        1491.90   \n",
              "1                  188                16          9.5        1493.08   \n",
              "2                  151                13         44.9        1467.62   \n",
              "3                  130                11         65.6        1491.90   \n",
              "4                  161                14        147.5        1680.26   \n",
              "\n",
              "   playoff_team  year  \n",
              "0             0  2021  \n",
              "1             0  2021  \n",
              "2             0  2021  \n",
              "3             0  2021  \n",
              "4             0  2021  "
            ]
          },
          "execution_count": 2,
          "metadata": {},
          "output_type": "execute_result"
        }
      ],
      "source": [
        "def fetch_csv_from_github(api_url):\n",
        "    response = requests.get(api_url)\n",
        "    if response.status_code == 200:\n",
        "        data = response.json()\n",
        "        csv_files = [file['download_url'] for file in data if file['name'].endswith('.csv')]\n",
        "        df = pd.concat([pd.read_csv(url) for url in csv_files], ignore_index=True)\n",
        "        return df\n",
        "    else:\n",
        "        print(f\"Failed to fetch CSV from {api_url}. Status code: {response.status_code}\")\n",
        "        return None\n",
        "\n",
        "data = pd.DataFrame()\n",
        "\n",
        "# 2022 regular season data - fasts\n",
        "github_api_url = \"https://api.github.com/repos/fantasydatapros/best-ball-data-bowl/contents/data/2022/regular_season/fast\"\n",
        "df = fetch_csv_from_github(github_api_url)\n",
        "if df is not None:\n",
        "    data = pd.concat([data, df])\n",
        "    data['year'] = 2022\n",
        "\n",
        "# 2022 regular season data - slows\n",
        "github_api_url = \"https://api.github.com/repos/fantasydatapros/best-ball-data-bowl/contents/data/2022/regular_season/mixed\"\n",
        "df = fetch_csv_from_github(github_api_url)\n",
        "if df is not None:\n",
        "    data = pd.concat([data, df])\n",
        "    data['year'] = 2022\n",
        "\n",
        "# 2021 regular season data\n",
        "github_api_url = \"https://api.github.com/repos/fantasydatapros/best-ball-data-bowl/contents/data/2021/regular_season\"\n",
        "df = fetch_csv_from_github(github_api_url)\n",
        "if df is not None:\n",
        "    data = pd.concat([data, df])\n",
        "    data['year'] = 2021\n",
        "\n",
        "data = data.reset_index(drop=True)\n",
        "data.head()"
      ]
    },
    {
      "cell_type": "markdown",
      "metadata": {
        "id": "hEXNmfJuPzTK"
      },
      "source": [
        "Here, I create a new column in the data called 'position_bye\" which is a concatenation of the position and bye week fields to create values such as \"QB_9\" or \"WR_7.\" This field will be used later to help group players with similar byes AND positions."
      ]
    },
    {
      "cell_type": "code",
      "execution_count": null,
      "metadata": {
        "colab": {
          "background_save": true
        },
        "id": "B5bb600NuTu-"
      },
      "outputs": [],
      "source": [
        "# Create a DataFrame from your data (replace this with your actual DataFrame)\n",
        "df = pd.DataFrame(data)\n",
        "# Create a column for position with byes\n",
        "df['position_bye'] = df['position_name'] + '_' + df['bye_week'].astype(str)\n",
        "\n",
        "def get_unique_duplicate_counts_by_tournament_entry_id(df):\n",
        "    unique_duplicate_counts_by_tournament_entry_id = {}\n",
        "\n",
        "    grouped_data = df.groupby('tournament_entry_id')\n",
        "\n",
        "    for tournament_entry_id, group_data in grouped_data:\n",
        "        bye_weeks = group_data['bye_week']\n",
        "\n",
        "        # Count all duplicates (keep=False) and then calculate the number of unique duplicates\n",
        "        duplicate_count = bye_weeks.duplicated(keep=False).sum()\n",
        "        unique_duplicate_counts_by_tournament_entry_id[tournament_entry_id] = duplicate_count\n",
        "\n",
        "    return unique_duplicate_counts_by_tournament_entry_id\n",
        "\n",
        "unique_duplicate_counts_by_tournament_entry_id = get_unique_duplicate_counts_by_tournament_entry_id(df)"
      ]
    },
    {
      "cell_type": "markdown",
      "metadata": {
        "id": "bWOVyrp_Phlp"
      },
      "source": [
        "Here is an example of how the new data would look for a specific entry."
      ]
    },
    {
      "cell_type": "code",
      "execution_count": null,
      "metadata": {
        "colab": {
          "background_save": true
        },
        "id": "0uHOH3aR7Odo",
        "outputId": "cd524475-f72a-4e1b-bf49-b54b23c1260c"
      },
      "outputs": [
        {
          "name": "stdout",
          "output_type": "stream",
          "text": [
            "Duplicates for Entry ID 0000146a-e245-49c3-8a4e-8e739cfe1e46:\n",
            "                      player_name  bye_week position_bye  playoff_team\n",
            "4235497                Gabe Davis         7         WR_7             0\n",
            "4235572                Josh Allen         7         QB_7             0\n",
            "4235640           Isaiah McKenzie         7         WR_7             0\n",
            "4235518             Joshua Kelley         8         RB_8             0\n",
            "4235520  Marquez Valdes-Scantling         8         WR_8             0\n",
            "4235563             Austin Ekeler         8         RB_8             0\n",
            "4235484          Javonte Williams         9         RB_9             0\n",
            "4235498              Daniel Jones         9         QB_9             0\n",
            "4235581              Tony Pollard         9         RB_9             0\n",
            "4235590           Diontae Johnson         9         WR_9             0\n",
            "4235627            Dalton Schultz         9         TE_9             0\n",
            "4235492                 Zack Moss        14        RB_14             0\n",
            "4235513              Logan Thomas        14        TE_14             0\n",
            "4235549     Cordarrelle Patterson        14        RB_14             0\n",
            "4235574               Romeo Doubs        14        WR_14             0\n"
          ]
        }
      ],
      "source": [
        " def get_duplicates_by_tournament_entry_id(df, tournament_entry_id):\n",
        "    # Filter the DataFrame for the specific tournament_entry_id\n",
        "    filtered_data = df[df['tournament_entry_id'] == tournament_entry_id]\n",
        "\n",
        "    # Group the filtered data\n",
        "    grouped_data = filtered_data.groupby('bye_week')\n",
        "\n",
        "    duplicates_list = []\n",
        "\n",
        "    for bye_week, group_data in grouped_data:\n",
        "        # Check if the group has duplicates\n",
        "        if len(group_data) > 1:\n",
        "            # Append 'position_name' to the selected columns\n",
        "            duplicates_list.append(group_data[['player_name', 'bye_week','position_bye','playoff_team']])\n",
        "\n",
        "    if not duplicates_list:\n",
        "        return None\n",
        "\n",
        "    # Concatenate the list of DataFrame containing duplicates\n",
        "    duplicates_df = pd.concat(duplicates_list)\n",
        "\n",
        "    return duplicates_df\n",
        "\n",
        "# Replace 'your_tournament_entry_id_here' with the actual ID you want to check for duplicates\n",
        "desired_tournament_entry_id = '0000146a-e245-49c3-8a4e-8e739cfe1e46'\n",
        "duplicates_for_entry_id = get_duplicates_by_tournament_entry_id(df, desired_tournament_entry_id)\n",
        "\n",
        "if duplicates_for_entry_id is not None:\n",
        "    print(f\"Duplicates for Entry ID {desired_tournament_entry_id}:\")\n",
        "    print(duplicates_for_entry_id)\n",
        "else:\n",
        "    print(f\"No duplicates found for Entry ID {desired_tournament_entry_id}.\")"
      ]
    },
    {
      "cell_type": "markdown",
      "metadata": {
        "id": "0O-aneiDgIqd"
      },
      "source": []
    },
    {
      "cell_type": "markdown",
      "metadata": {
        "id": "fNOWWD8hRAmr"
      },
      "source": [
        "Now, let's begin working with the data. Here, we group the entries by the bye week column and find the maximum number of same bye weeks for each entry. We then bring in the playoff team column from our original data set to calculate the average playoff rate (playoff advance rate).\n",
        "\n",
        "Now, some of the counts have a low sample size, so I group them together into bucket for simplicity."
      ]
    },
    {
      "cell_type": "markdown",
      "metadata": {
        "id": "ApYK6uJ_fpJM"
      },
      "source": [
        "####We see a few things in the below data:\n",
        "1. Most playoff teams have 4 or 5 players with a duped bye week.\n",
        "2. Having more than 5 players on the same bye has a small, negative affect on your advance rate."
      ]
    },
    {
      "cell_type": "code",
      "execution_count": null,
      "metadata": {
        "colab": {
          "background_save": true
        },
        "id": "r0961jzRhzqX",
        "outputId": "f152b74a-e83e-4ec2-c2c1-a869b6a4d420"
      },
      "outputs": [
        {
          "name": "stdout",
          "output_type": "stream",
          "text": [
            "  count  playoff_team\n",
            "0   2-3          2257\n",
            "1     4          9671\n",
            "2     5          8266\n",
            "3     6          3821\n",
            "4    7+          1905\n"
          ]
        },
        {
          "data": {
            "image/png": "[encoded data removed]",
            "text/plain": [
              "<Figure size 640x480 with 1 Axes>"
            ]
          },
          "metadata": {},
          "output_type": "display_data"
        }
      ],
      "source": [
        " # Group by draft_entry_id and bye_week to count players with the same bye week\n",
        "bye_week_counts = df.groupby(['tournament_entry_id', 'bye_week']).size().reset_index(name='count')\n",
        "\n",
        "# For each draft_entry_id, get the max count of players with the same bye week\n",
        "max_bye_week_counts = bye_week_counts.groupby('tournament_entry_id')['count'].max().reset_index()\n",
        "\n",
        "# Merge with original dataframe to get playoff_team values\n",
        "merged = pd.merge(max_bye_week_counts, df[['tournament_entry_id', 'playoff_team']], on='tournament_entry_id', how='left').drop_duplicates()\n",
        "\n",
        "# Define a function to group the buckets\n",
        "def group_buckets(x):\n",
        "    if x in [2, 3]:\n",
        "        return '2-3'\n",
        "    elif x >= 7:\n",
        "        return '7+'\n",
        "    else:\n",
        "        return str(x)\n",
        "\n",
        "# Apply the function to the 'count' column\n",
        "merged['count'] = merged['count'].apply(group_buckets)\n",
        "\n",
        "# Group by the max count (bucket) and calculate the rate of playoff_team = 1\n",
        "playoff_rates = merged.groupby('count')['playoff_team'].mean().reset_index()\n",
        "\n",
        "# Group by the max count (bucket) and calculate the total count of teams\n",
        "playoff_counts = merged.groupby('count')['playoff_team'].sum().reset_index()\n",
        "\n",
        "print(playoff_counts)\n",
        "\n",
        "# Plot\n",
        "plt.bar(playoff_rates['count'], playoff_rates['playoff_team'])\n",
        "plt.xlabel('Number of Players with Same Bye Week')\n",
        "plt.ylabel('Playoff Advance Rate')\n",
        "plt.title('Playoff Advance Rate by Bye Week Concentration')\n",
        "\n",
        "# Add the percentage on each bar\n",
        "for i, v in enumerate(playoff_rates['playoff_team']):\n",
        "    plt.text(i, v, f\"{v*100:.1f}%\", ha='center', va='bottom')\n",
        "\n",
        "plt.show()"
      ]
    },
    {
      "cell_type": "markdown",
      "metadata": {
        "id": "r5VtwOW9heKo"
      },
      "source": [
        "Now let's start to break things down by position. Here we filter by QBs. Most teams (~84%) have avoided duplicated bye weeks on QBs, with a small sample (<1%) of teams having 3 or more."
      ]
    },
    {
      "cell_type": "code",
      "execution_count": null,
      "metadata": {
        "colab": {
          "background_save": true
        },
        "id": "YzSTbb8qJOoK",
        "outputId": "8335105c-181d-49f6-e9e1-4c2db5444bd5"
      },
      "outputs": [
        {
          "name": "stdout",
          "output_type": "stream",
          "text": [
            "  count  playoff_team\n",
            "0     1         22776\n",
            "1     2          3089\n",
            "2    3+            55\n",
            "  Bucket  Number of Unique Players\n",
            "0      1                    510474\n",
            "1      2                     93668\n",
            "2     3+                      2433\n"
          ]
        },
        {
          "data": {
            "image/png": "[encoded data removed]",
            "text/plain": [
              "<Figure size 640x480 with 1 Axes>"
            ]
          },
          "metadata": {},
          "output_type": "display_data"
        }
      ],
      "source": [
        "filtered_df = df[df['position_name'] == 'QB']\n",
        "\n",
        "# Group by draft_entry_id and bye_week to count players with the same bye week\n",
        "bye_week_counts = filtered_df.groupby(['tournament_entry_id', 'position_bye']).size().reset_index(name='count')\n",
        "\n",
        "# For each draft_entry_id, get the max count of players with the same bye week\n",
        "max_bye_week_counts = bye_week_counts.groupby('tournament_entry_id')['count'].max().reset_index()\n",
        "\n",
        "# Merge with the original DataFrame to get playoff_team values\n",
        "merged = pd.merge(max_bye_week_counts, filtered_df[['tournament_entry_id', 'playoff_team']], on='tournament_entry_id', how='left').drop_duplicates()\n",
        "\n",
        "# Define a function to group the buckets\n",
        "def group_buckets(x):\n",
        "    if x >= 3:\n",
        "        return '3+'\n",
        "    else:\n",
        "        return str(x)\n",
        "\n",
        "# Apply the function to the 'count' column\n",
        "merged['count'] = merged['count'].apply(group_buckets)\n",
        "\n",
        "# Group by the new 'count' groups and calculate the rate of playoff_team = 1\n",
        "playoff_rates = merged.groupby('count')['playoff_team'].mean().reset_index()\n",
        "\n",
        "# Group by the max count (bucket) and calculate the total count of teams\n",
        "playoff_counts = merged.groupby('count')['playoff_team'].sum().reset_index()\n",
        "\n",
        "print(playoff_counts)\n",
        "\n",
        "# Count the number of unique players in each bucket after grouping\n",
        "unique_players_after_grouping = merged.groupby('count')['tournament_entry_id'].nunique().reset_index()\n",
        "unique_players_after_grouping.columns = ['Bucket', 'Number of Unique Players']\n",
        "\n",
        "print(unique_players_after_grouping)\n",
        "\n",
        "# Plot\n",
        "plt.bar(playoff_rates['count'], playoff_rates['playoff_team'])\n",
        "plt.xlabel('Number of TE with Same Bye Week')\n",
        "plt.ylabel('Playoff Advance Rate')\n",
        "plt.title(f'Playoff Advance Rate (QB)')\n",
        "\n",
        "# Add the percentage on each bar\n",
        "for i, v in enumerate(playoff_rates['playoff_team']):\n",
        "    plt.text(i, v, f\"{v*100:.1f}%\", ha='center', va='bottom')\n",
        "\n",
        "plt.show()"
      ]
    },
    {
      "cell_type": "markdown",
      "metadata": {
        "id": "_D6lay31jKpY"
      },
      "source": [
        "Now for the fun part. In this step, we break out maximum bye weeks by position. Does it matter if you have a QB stacked with a WR with the same bye week? Probably not. We do want to know, however, the impact of having multiple RB from the same bye week."
      ]
    },
    {
      "cell_type": "markdown",
      "metadata": {
        "id": "xvaL9X29mo3C"
      },
      "source": [
        "####We see a few things in the below data:\n",
        "1. Most teams (~84%) have avoided duplicated bye weeks on QBs, with a small sample (<1%) of teams having 3 or more.\n",
        "2. The most significant drop off comes from RBs. However, RB and WR have a smaller sample of players without duping bye weeks (presumably due to stacking).\n",
        "3. The flattest rates come from TEs"
      ]
    },
    {
      "cell_type": "code",
      "execution_count": null,
      "metadata": {
        "colab": {
          "background_save": true
        },
        "id": "liXC0LBLJvvv",
        "outputId": "0f1c5c17-6d9c-453b-9cc4-3907be5a213a"
      },
      "outputs": [
        {
          "name": "stdout",
          "output_type": "stream",
          "text": [
            "  Bucket  Number of Unique Players\n",
            "0      1                    510474\n",
            "1      2                     93668\n",
            "2     3+                      2433\n",
            "  Bucket  Number of Unique Players\n",
            "0      1                    133105\n",
            "1      2                    383416\n",
            "2     3+                     90054\n",
            "  Bucket  Number of Unique Players\n",
            "0      1                     15821\n",
            "1      2                    326428\n",
            "2     3+                    264326\n",
            "  Bucket  Number of Unique Players\n",
            "0      1                    508300\n",
            "1      2                     96114\n",
            "2     3+                      2161\n"
          ]
        },
        {
          "data": {
            "image/png": "[encoded data removed]",
            "text/plain": [
              "<Figure size 640x480 with 1 Axes>"
            ]
          },
          "metadata": {},
          "output_type": "display_data"
        }
      ],
      "source": [
        "#Filter the DataFrame for the position_name 'QB'\n",
        "position_name_qb = \"QB\"\n",
        "filtered_df_qb = df[df['position_name'] == 'QB']\n",
        "\n",
        "# Filter the DataFrame for the position_name 'RB'\n",
        "df['position_name'] = df['position_name'].replace('FB', 'RB')\n",
        "position_name_rb = \"RB\"\n",
        "filtered_df_rb = df[df['position_name'] == 'RB']\n",
        "\n",
        "# Filter the DataFrame for the position_name 'WR'\n",
        "position_name_wr = \"WR\"\n",
        "filtered_df_wr = df[df['position_name'] == 'WR']\n",
        "\n",
        "# Filter the DataFrame for the position_name 'TE'\n",
        "position_name_te = \"TE\"\n",
        "filtered_df_te = df[df['position_name'] == 'TE']\n",
        "\n",
        "# Function to group the buckets\n",
        "def group_buckets(x):\n",
        "    if x >= 3:\n",
        "        return '3+'\n",
        "    else:\n",
        "        return str(x)\n",
        "\n",
        "# Create a function to plot the data for each position\n",
        "def plot_position_data(position_df, position_name, position_index, total_positions):\n",
        "    # Group by draft_entry_id and bye_week to count players with the same bye week\n",
        "    bye_week_counts = position_df.groupby(['tournament_entry_id', 'position_bye']).size().reset_index(name='count')\n",
        "\n",
        "    # For each draft_entry_id, get the max count of players with the same bye week\n",
        "    max_bye_week_counts = bye_week_counts.groupby('tournament_entry_id')['count'].max().reset_index()\n",
        "\n",
        "    # Merge with the original DataFrame to get playoff_team values\n",
        "    merged = pd.merge(max_bye_week_counts, position_df[['tournament_entry_id', 'playoff_team']], on='tournament_entry_id', how='left').drop_duplicates()\n",
        "\n",
        "    # Apply the function to the 'count' column\n",
        "    merged['count'] = merged['count'].apply(group_buckets)\n",
        "\n",
        "    # Group by the new 'count' groups and calculate the rate of playoff_team = 1\n",
        "    playoff_rates = merged.groupby('count')['playoff_team'].mean().reset_index()\n",
        "\n",
        "    # Count the number of unique players in each bucket after grouping\n",
        "    unique_players_after_grouping = merged.groupby('count')['tournament_entry_id'].nunique().reset_index()\n",
        "    unique_players_after_grouping.columns = ['Bucket', 'Number of Unique Players']\n",
        "\n",
        "    print(unique_players_after_grouping)\n",
        "\n",
        "    # Set the width of the bars and adjust x position for side-by-side placement\n",
        "    bar_width = 0.2\n",
        "    x_positions = np.arange(len(playoff_rates)) + (bar_width * (position_index - total_positions/2))\n",
        "\n",
        "    # Plot\n",
        "    plt.bar(x_positions, playoff_rates['playoff_team'], width=bar_width, label=position_name)\n",
        "\n",
        "     # Add the percentage on each bar\n",
        "    for i, v in enumerate(playoff_rates['playoff_team']):\n",
        "        plt.text(x_positions[i], v, f\"{v*100:.1f}%\", ha='center', va='bottom', fontsize=8)\n",
        "\n",
        "# Plot data for 'QB'\n",
        "plot_position_data(filtered_df_qb, position_name_qb, 1, 4)\n",
        "\n",
        "# Plot data for 'RB'\n",
        "plot_position_data(filtered_df_rb, position_name_rb, 2, 4)\n",
        "\n",
        "# Plot data for 'WR'\n",
        "plot_position_data(filtered_df_wr, position_name_wr, 3, 4)\n",
        "\n",
        "# Plot data for 'TE'\n",
        "plot_position_data(filtered_df_te, position_name_te, 4, 4)\n",
        "\n",
        "plt.xlabel('Number of Players with Same Bye Week')\n",
        "plt.ylabel('Playoff Advance Rate')\n",
        "plt.title('Playoff Advance Rate by Bye Week Concentration')\n",
        "plt.xticks(np.arange(len(playoff_rates)) + 0.25, playoff_rates['count'])\n",
        "plt.legend()\n",
        "\n",
        "plt.show()"
      ]
    },
    {
      "cell_type": "markdown",
      "metadata": {
        "id": "CPoNk7zKs99s"
      },
      "source": [
        "WR had a small sample of 1 duped bye week and a larger sample of 3+, so I decided to run WR out with 4+ to see if there was a significant change. There wasn't.\n"
      ]
    },
    {
      "cell_type": "code",
      "execution_count": null,
      "metadata": {
        "colab": {
          "base_uri": "https://localhost:8080/",
          "height": 564
        },
        "id": "AVQ5yuCrkKCj",
        "outputId": "12a2ac8d-64aa-4c0f-cefb-30d7b40fb42f"
      },
      "outputs": [
        {
          "output_type": "stream",
          "name": "stdout",
          "text": [
            "  Bucket  Number of Unique Players\n",
            "0      1                     15821\n",
            "1      2                    326428\n",
            "2      3                    215897\n",
            "3     4+                     48429\n"
          ]
        },
        {
          "output_type": "display_data",
          "data": {
            "text/plain": [
              "<Figure size 640x480 with 1 Axes>"
            ],
            "image/png": "[encoded data removed]"
          },
          "metadata": {}
        }
      ],
      "source": [
        "filtered_df = df[df['position_name'] == 'WR']\n",
        "\n",
        "# Group by draft_entry_id and bye_week to count players with the same bye week\n",
        "bye_week_counts = filtered_df.groupby(['tournament_entry_id', 'position_bye']).size().reset_index(name='count')\n",
        "\n",
        "# For each draft_entry_id, get the max count of players with the same bye week\n",
        "max_bye_week_counts = bye_week_counts.groupby('tournament_entry_id')['count'].max().reset_index()\n",
        "\n",
        "# Merge with the original DataFrame to get playoff_team values\n",
        "merged = pd.merge(max_bye_week_counts, filtered_df[['tournament_entry_id', 'playoff_team']], on='tournament_entry_id', how='left').drop_duplicates()\n",
        "\n",
        "# Define a function to group the buckets\n",
        "def group_buckets(x):\n",
        "    if x >= 4:\n",
        "        return '4+'\n",
        "    else:\n",
        "        return str(x)\n",
        "\n",
        "# Apply the function to the 'count' column\n",
        "merged['count'] = merged['count'].apply(group_buckets)\n",
        "\n",
        "# Group by the new 'count' groups and calculate the rate of playoff_team = 1\n",
        "playoff_rates = merged.groupby('count')['playoff_team'].mean().reset_index()\n",
        "\n",
        "# Count the number of unique players in each bucket after grouping\n",
        "unique_players_after_grouping = merged.groupby('count')['tournament_entry_id'].nunique().reset_index()\n",
        "unique_players_after_grouping.columns = ['Bucket', 'Number of Unique Players']\n",
        "\n",
        "print(unique_players_after_grouping)\n",
        "\n",
        "# Plot\n",
        "plt.bar(playoff_rates['count'], playoff_rates['playoff_team'])\n",
        "plt.xlabel('Number of WR with Same Bye Week')\n",
        "plt.ylabel('Playoff Advance Rate')\n",
        "plt.title(f'Playoff Advance Rate (WR)')\n",
        "\n",
        "# Add the percentage on each bar\n",
        "for i, v in enumerate(playoff_rates['playoff_team']):\n",
        "    plt.text(i, v, f\"{v*100:.1f}%\", ha='center', va='bottom')\n",
        "\n",
        "plt.show()"
      ]
    },
    {
      "cell_type": "markdown",
      "source": [
        "##Conclusion\n",
        "The bye week bros might be on to something here. From the sample data, we can conclude that teams that have less duplicated bye weeks amongst their lineups are expected to have a higher chance at making the playoffs in Best Ball Mania.\n",
        "\n",
        "The data also seems to show that as you continue to add more players with the same bye week, there are \"diminishing returns.\" The example of this is for the WR position, where the advance rate of teams is relatively the same as you go from 2 to 4 duplicated bye weeks. You can also see the overall lineup advance rate flattens out at 5+ duplicated bye weeks.\n",
        "\n",
        "We might not have enough data yet to come up with a concrete conclusion. It would be interesting to re-run this project in a couple years with more data points. But as it stands now, don't get carried away with too many players on the same bye week."
      ],
      "metadata": {
        "id": "zdS799lSvzu_"
      }
    },
    {
      "cell_type": "code",
      "execution_count": null,
      "metadata": {
        "colab": {
          "background_save": true
        },
        "id": "fBY5f0s6mXGp"
      },
      "outputs": [],
      "source": []
    }
  ],
  "metadata": {
    "colab": {
      "provenance": []
    },
    "kernelspec": {
      "display_name": "Python 3",
      "name": "python3"
    },
    "language_info": {
      "name": "python"
    }
  },
  "nbformat": 4,
  "nbformat_minor": 0
}